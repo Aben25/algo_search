{
 "cells": [
  {
   "cell_type": "code",
   "execution_count": null,
   "metadata": {},
   "outputs": [],
   "source": []
  },
  {
   "cell_type": "code",
   "execution_count": null,
   "metadata": {},
   "outputs": [],
   "source": [
    "from algoliasearch.search_client import SearchClient\n",
    "\n",
    "# Create a client\n",
    "client = SearchClient.create('6V4U26IN4K', '4f9000d54b1237ca4042beed53ba3bc2')\n",
    "\n",
    "# List of indices to fetch data from\n",
    "index_names = ['novi_events', 'artba_searchable_posts', 'Newsline_searchable_posts']  # replace with your index names\n",
    "\n",
    "# The index to which all data will be saved\n",
    "combined_index = client.init_index('combined_index')  # replace with your combined index name\n",
    "\n",
    "for index_name in index_names:\n",
    "    index = client.init_index(index_name)\n",
    "\n",
    "    # Use the browse method to fetch all objects from the index\n",
    "    for hit in index.browse_objects():\n",
    "        # Process the hit as necessary here. For example:\n",
    "        hit['index_origin'] = index_name\n",
    "\n",
    "        # Add or update the object in the combined index\n",
    "        combined_index.save_object(hit)\n"
   ]
  }
 ],
 "metadata": {
  "language_info": {
   "name": "python"
  },
  "orig_nbformat": 4
 },
 "nbformat": 4,
 "nbformat_minor": 2
}
